{
 "cells": [
  {
   "cell_type": "code",
   "execution_count": 1,
   "metadata": {},
   "outputs": [
    {
     "name": "stderr",
     "output_type": "stream",
     "text": [
      "/Users/pschafer/miniconda3/envs/misty_liana/lib/python3.8/site-packages/tqdm/auto.py:21: TqdmWarning: IProgress not found. Please update jupyter and ipywidgets. See https://ipywidgets.readthedocs.io/en/stable/user_install.html\n",
      "  from .autonotebook import tqdm as notebook_tqdm\n"
     ]
    }
   ],
   "source": [
    "import numpy as np\n",
    "import pandas as pd\n",
    "import re\n",
    "import matplotlib.pyplot as plt\n",
    "import seaborn as sns\n",
    "import muon as mu\n",
    "import anndata as ad\n",
    "from muon import prot as pt\n",
    "import squidpy as sq\n",
    "import scanpy as sc"
   ]
  },
  {
   "cell_type": "code",
   "execution_count": 2,
   "metadata": {},
   "outputs": [
    {
     "data": {
      "text/plain": [
       "'1.0.0a0'"
      ]
     },
     "execution_count": 2,
     "metadata": {},
     "output_type": "execute_result"
    }
   ],
   "source": [
    "import liana as li\n",
    "from liana.method import MistyData, genericMistyData, lrMistyData\n",
    "li.__version__"
   ]
  },
  {
   "cell_type": "code",
   "execution_count": 3,
   "metadata": {},
   "outputs": [],
   "source": [
    "from pybiomart import Dataset"
   ]
  },
  {
   "cell_type": "code",
   "execution_count": 4,
   "metadata": {},
   "outputs": [
    {
     "data": {
      "text/html": [
       "<div>\n",
       "<style scoped>\n",
       "    .dataframe tbody tr th:only-of-type {\n",
       "        vertical-align: middle;\n",
       "    }\n",
       "\n",
       "    .dataframe tbody tr th {\n",
       "        vertical-align: top;\n",
       "    }\n",
       "\n",
       "    .dataframe thead th {\n",
       "        text-align: right;\n",
       "    }\n",
       "</style>\n",
       "<table border=\"1\" class=\"dataframe\">\n",
       "  <thead>\n",
       "    <tr style=\"text-align: right;\">\n",
       "      <th></th>\n",
       "      <th>CD_NAME</th>\n",
       "      <th>NCBI_NAME</th>\n",
       "      <th>GENE_NAME</th>\n",
       "      <th>NCBI_OTHER_NAME</th>\n",
       "    </tr>\n",
       "  </thead>\n",
       "  <tbody>\n",
       "    <tr>\n",
       "      <th>0</th>\n",
       "      <td>CD1a</td>\n",
       "      <td>CD1A</td>\n",
       "      <td>CD1A</td>\n",
       "      <td>[CD1]</td>\n",
       "    </tr>\n",
       "    <tr>\n",
       "      <th>1</th>\n",
       "      <td>CD1b</td>\n",
       "      <td>CD1B</td>\n",
       "      <td>CD1B</td>\n",
       "      <td>[CD1]</td>\n",
       "    </tr>\n",
       "    <tr>\n",
       "      <th>2</th>\n",
       "      <td>CD1c</td>\n",
       "      <td>CD1C</td>\n",
       "      <td>CD1C</td>\n",
       "      <td>[CD1]</td>\n",
       "    </tr>\n",
       "    <tr>\n",
       "      <th>3</th>\n",
       "      <td>CD1d</td>\n",
       "      <td>CD1D</td>\n",
       "      <td>CD1D</td>\n",
       "      <td>[none]</td>\n",
       "    </tr>\n",
       "    <tr>\n",
       "      <th>4</th>\n",
       "      <td>CD1e</td>\n",
       "      <td>CD1E</td>\n",
       "      <td>CD1E</td>\n",
       "      <td>[HSCDIEL]</td>\n",
       "    </tr>\n",
       "    <tr>\n",
       "      <th>...</th>\n",
       "      <td>...</td>\n",
       "      <td>...</td>\n",
       "      <td>...</td>\n",
       "      <td>...</td>\n",
       "    </tr>\n",
       "    <tr>\n",
       "      <th>412</th>\n",
       "      <td>CD367</td>\n",
       "      <td>CLEC4A</td>\n",
       "      <td>CD367</td>\n",
       "      <td>[DCIR, DDB27, CLECSF6]</td>\n",
       "    </tr>\n",
       "    <tr>\n",
       "      <th>413</th>\n",
       "      <td>CD368</td>\n",
       "      <td>CLEC4D</td>\n",
       "      <td>CD368</td>\n",
       "      <td>[MCL, CLECSF8, CLEC-6, MPCL]</td>\n",
       "    </tr>\n",
       "    <tr>\n",
       "      <th>414</th>\n",
       "      <td>CD369</td>\n",
       "      <td>CLEC7A</td>\n",
       "      <td>CD369</td>\n",
       "      <td>[DECTIN-1, CLECSF12,]</td>\n",
       "    </tr>\n",
       "    <tr>\n",
       "      <th>415</th>\n",
       "      <td>CD370</td>\n",
       "      <td>CLEC9A</td>\n",
       "      <td>CD370</td>\n",
       "      <td>[HEEE9341, UNQ9341, DNGR1]</td>\n",
       "    </tr>\n",
       "    <tr>\n",
       "      <th>416</th>\n",
       "      <td>CD371</td>\n",
       "      <td>CLEC12A</td>\n",
       "      <td>CD371</td>\n",
       "      <td>[CLL-1, MICL, DCAL-2]</td>\n",
       "    </tr>\n",
       "  </tbody>\n",
       "</table>\n",
       "<p>417 rows × 4 columns</p>\n",
       "</div>"
      ],
      "text/plain": [
       "    CD_NAME NCBI_NAME GENE_NAME               NCBI_OTHER_NAME\n",
       "0      CD1a      CD1A      CD1A                         [CD1]\n",
       "1      CD1b      CD1B      CD1B                         [CD1]\n",
       "2      CD1c      CD1C      CD1C                         [CD1]\n",
       "3      CD1d      CD1D      CD1D                        [none]\n",
       "4      CD1e      CD1E      CD1E                     [HSCDIEL]\n",
       "..      ...       ...       ...                           ...\n",
       "412   CD367    CLEC4A     CD367        [DCIR, DDB27, CLECSF6]\n",
       "413   CD368    CLEC4D     CD368  [MCL, CLECSF8, CLEC-6, MPCL]\n",
       "414   CD369    CLEC7A     CD369         [DECTIN-1, CLECSF12,]\n",
       "415   CD370    CLEC9A     CD370    [HEEE9341, UNQ9341, DNGR1]\n",
       "416   CD371   CLEC12A     CD371         [CLL-1, MICL, DCAL-2]\n",
       "\n",
       "[417 rows x 4 columns]"
      ]
     },
     "execution_count": 4,
     "metadata": {},
     "output_type": "execute_result"
    }
   ],
   "source": [
    "# from https://www.hcdm.org/index.php/molecule-information\n",
    "cd_to_ncbi = pd.read_csv(\"CD_to_ncbi.txt\", sep=\"\\t\", header=None, names=[\"CD_NAME\", \"NCBI_NAME\", \"GENE_NAME\", \"NCBI_OTHER_NAME\"])\n",
    "cd_to_ncbi.NCBI_OTHER_NAME = [str(s).split(\";\") for s in cd_to_ncbi.NCBI_OTHER_NAME]\n",
    "cd_to_ncbi"
   ]
  },
  {
   "cell_type": "code",
   "execution_count": 5,
   "metadata": {},
   "outputs": [],
   "source": [
    "#dataset = Dataset(name='hsapiens_gene_ensembl', host='http://www.ensembl.org')\n",
    "##with pd.option_context('display.max_rows', None, 'display.max_columns', None):  # more options can be specified also\n",
    "##    display(dataset.list_attributes())\n",
    "## or check attributes here: https://www.ensembl.org/biomart/martview\n",
    "#\n",
    "#gene_annot = dataset.query(attributes=[\"ensembl_gene_id\", \"external_gene_name\", \"hgnc_symbol\", \"uniprot_gn_symbol\", \"wikigene_name\"])\n",
    "#gene_annot\n",
    "#\n",
    "#gene_annot_2 = dataset.query(attributes=[\"ensembl_gene_id\", \"external_gene_name\", \"hgnc_id\"])\n",
    "#hgnc = pd.read_csv(\"group-471.csv\", skiprows=1).rename(columns={'HGNC ID (gene)':'HGNC ID'})\n",
    "#gene_annot_2 = gene_annot_2.set_index(\"HGNC ID\").join(hgnc, how=\"left\")\n",
    "#gene_annot_2"
   ]
  },
  {
   "cell_type": "code",
   "execution_count": 8,
   "metadata": {},
   "outputs": [],
   "source": [
    "rna_path = \"/Users/pschafer/Liana_Vignette/data/GSE213264/GSM6578062_humantonsil_RNA.tsv.gz\"\n",
    "prot_path = \"/Users/pschafer/Liana_Vignette/data/GSE213264/GSM6578071_humantonsil_protein.tsv.gz\"\n",
    "ab_path = \"/Users/pschafer/Liana_Vignette/data/41587_2023_1676_MOESM3_ESM.xlsx\""
   ]
  },
  {
   "cell_type": "code",
   "execution_count": 9,
   "metadata": {},
   "outputs": [],
   "source": [
    "# sheets: HUMAN_273, MOUSE_189\n",
    "ab_df = pd.read_excel(ab_path, sheet_name=\"HUMAN_273\")"
   ]
  },
  {
   "cell_type": "code",
   "execution_count": 10,
   "metadata": {},
   "outputs": [],
   "source": [
    "rna = pd.read_csv(rna_path, sep=\"\\t\")\n",
    "prot = pd.read_csv(prot_path, sep=\"\\t\")\n",
    "assert set(rna.X) == set(prot.X)\n",
    "\n",
    "rna = rna.set_index(\"X\")\n",
    "prot = prot.set_index(\"X\")\n",
    "prot = prot.loc[rna.index]\n",
    "assert np.all(rna.index == prot.index)"
   ]
  },
  {
   "cell_type": "code",
   "execution_count": 11,
   "metadata": {},
   "outputs": [],
   "source": [
    "# get coordinates\n",
    "def get_coord(col):\n",
    "    x_coord = [s.split(\"x\")[0] for s in col]\n",
    "    y_coord = [s.split(\"x\")[1] for s in col]\n",
    "    df_coord = pd.DataFrame({\"x\": x_coord, \"y\": y_coord})\n",
    "    df_coord = df_coord.apply(pd.to_numeric)\n",
    "    return df_coord\n",
    "coord = get_coord(rna.index)"
   ]
  },
  {
   "cell_type": "code",
   "execution_count": 12,
   "metadata": {},
   "outputs": [
    {
     "name": "stdout",
     "output_type": "stream",
     "text": [
      "(2492, 28417)\n",
      "29\n",
      "(2492, 28388)\n"
     ]
    }
   ],
   "source": [
    "# remove spike ins from rna\n",
    "print(rna.shape)\n",
    "spike_bool = np.array([\"ERCC\" in c for c in rna.columns])\n",
    "print(spike_bool.sum())\n",
    "rna = rna.loc[:,~spike_bool]\n",
    "print(rna.shape)"
   ]
  },
  {
   "cell_type": "code",
   "execution_count": 13,
   "metadata": {},
   "outputs": [
    {
     "name": "stdout",
     "output_type": "stream",
     "text": [
      "(2492, 283)\n",
      "1\n",
      "(2492, 282)\n"
     ]
    }
   ],
   "source": [
    "# TODO: remove unmapped from protein?\n",
    "print(prot.shape)\n",
    "unmapped_bool = np.array([\"unmapped\" in c for c in prot.columns])\n",
    "print(unmapped_bool.sum())\n",
    "prot = prot.loc[:,~unmapped_bool]\n",
    "print(prot.shape)"
   ]
  },
  {
   "cell_type": "code",
   "execution_count": 14,
   "metadata": {},
   "outputs": [],
   "source": [
    "# clean protein names\n",
    "clean_names = prot.columns\n",
    "clean_names = [re.sub(\"\\\\.[AGCT]{15}\", \"\", s) for s in prot.columns]\n",
    "clean_names = [re.sub(\"anti\\\\.mouse\\\\.human\", \"\", s) for s in clean_names]\n",
    "clean_names = [re.sub(\"anti\\\\.human\\\\.mouse\", \"\", s) for s in clean_names]\n",
    "clean_names = [re.sub(\"anti\\\\.mouse\\\\.rat\\\\.human\", \"\", s) for s in clean_names]\n",
    "clean_names = [re.sub(\"anti\\\\.mouse\\\\.rat\", \"\", s) for s in clean_names]\n",
    "clean_names = [re.sub(\"Mouse\", \"\", s) for s in clean_names]\n",
    "clean_names = [re.sub(\"Rat\", \"\", s) for s in clean_names]\n",
    "clean_names = [re.sub(\"Human\", \"\", s) for s in clean_names]\n",
    "clean_names = [re.sub(\"isotype\\\\.Ctrl\", \"\", s) for s in clean_names]\n",
    "clean_names = [re.sub(\"Isotype\\\\.Ctrl\", \"\", s) for s in clean_names]\n",
    "clean_names = [re.sub(\"\\\\.\\\\.k\", \"\", s) for s in clean_names]\n",
    "clean_names = [re.sub(\"\\\\.+$\", \"\", s) for s in clean_names]\n",
    "clean_names = [re.sub(\"^\\\\.+\", \"\", s) for s in clean_names]"
   ]
  },
  {
   "cell_type": "code",
   "execution_count": 15,
   "metadata": {},
   "outputs": [
    {
     "data": {
      "text/html": [
       "<div>\n",
       "<style scoped>\n",
       "    .dataframe tbody tr th:only-of-type {\n",
       "        vertical-align: middle;\n",
       "    }\n",
       "\n",
       "    .dataframe tbody tr th {\n",
       "        vertical-align: top;\n",
       "    }\n",
       "\n",
       "    .dataframe thead th {\n",
       "        text-align: right;\n",
       "    }\n",
       "</style>\n",
       "<table border=\"1\" class=\"dataframe\">\n",
       "  <thead>\n",
       "    <tr style=\"text-align: right;\">\n",
       "      <th></th>\n",
       "      <th>Primary</th>\n",
       "      <th>barcode</th>\n",
       "      <th>DNA_ID</th>\n",
       "      <th>Target</th>\n",
       "      <th>Clean</th>\n",
       "      <th>Alternative</th>\n",
       "      <th>NCBI_NAME</th>\n",
       "      <th>GENE_NAME</th>\n",
       "      <th>NCBI_OTHER_NAME</th>\n",
       "    </tr>\n",
       "  </thead>\n",
       "  <tbody>\n",
       "    <tr>\n",
       "      <th>0</th>\n",
       "      <td>CD64</td>\n",
       "      <td>AAGTATGCCCTACGA</td>\n",
       "      <td>A0162</td>\n",
       "      <td>CD64</td>\n",
       "      <td>CD64</td>\n",
       "      <td>[]</td>\n",
       "      <td>none</td>\n",
       "      <td>none</td>\n",
       "      <td>none</td>\n",
       "    </tr>\n",
       "    <tr>\n",
       "      <th>1</th>\n",
       "      <td>CD1d</td>\n",
       "      <td>TCGAGTCGCTTATCA</td>\n",
       "      <td>A0164</td>\n",
       "      <td>CD1d</td>\n",
       "      <td>CD1d</td>\n",
       "      <td>[]</td>\n",
       "      <td>CD1D</td>\n",
       "      <td>CD1D</td>\n",
       "      <td>[none]</td>\n",
       "    </tr>\n",
       "    <tr>\n",
       "      <th>2</th>\n",
       "      <td>CD270</td>\n",
       "      <td>TGATAGAAACAGACC</td>\n",
       "      <td>A0020</td>\n",
       "      <td>CD270 (HVEM, TR2)</td>\n",
       "      <td>CD270..HVEM_.TR2</td>\n",
       "      <td>[HVEM, TR2]</td>\n",
       "      <td>TNFRSF14</td>\n",
       "      <td>CD270</td>\n",
       "      <td>[ATAR,  CD270,  \"herpesvirus entry mediator\", ...</td>\n",
       "    </tr>\n",
       "    <tr>\n",
       "      <th>3</th>\n",
       "      <td>CD319</td>\n",
       "      <td>AGTATGCCATGTCTT</td>\n",
       "      <td>A0830</td>\n",
       "      <td>CD319 (CRACC)</td>\n",
       "      <td>CD319..CRACC</td>\n",
       "      <td>[CRACC]</td>\n",
       "      <td>SLAMF7</td>\n",
       "      <td>CD319</td>\n",
       "      <td>[19A,  CRACC,  CS1]</td>\n",
       "    </tr>\n",
       "    <tr>\n",
       "      <th>4</th>\n",
       "      <td>CD34</td>\n",
       "      <td>GCAGAAATCTCCCTT</td>\n",
       "      <td>A0054</td>\n",
       "      <td>CD34</td>\n",
       "      <td>CD34</td>\n",
       "      <td>[]</td>\n",
       "      <td>CD34</td>\n",
       "      <td>CD34</td>\n",
       "      <td>[none]</td>\n",
       "    </tr>\n",
       "    <tr>\n",
       "      <th>...</th>\n",
       "      <td>...</td>\n",
       "      <td>...</td>\n",
       "      <td>...</td>\n",
       "      <td>...</td>\n",
       "      <td>...</td>\n",
       "      <td>...</td>\n",
       "      <td>...</td>\n",
       "      <td>...</td>\n",
       "      <td>...</td>\n",
       "    </tr>\n",
       "    <tr>\n",
       "      <th>277</th>\n",
       "      <td>CD37</td>\n",
       "      <td>ACAGTCACTGGGCAA</td>\n",
       "      <td>A0941</td>\n",
       "      <td>CD37</td>\n",
       "      <td>CD37</td>\n",
       "      <td>[]</td>\n",
       "      <td>CD37</td>\n",
       "      <td>CD37</td>\n",
       "      <td>[GP52-40]</td>\n",
       "    </tr>\n",
       "    <tr>\n",
       "      <th>278</th>\n",
       "      <td>TNF-α</td>\n",
       "      <td>CCTATGAACGTAACG</td>\n",
       "      <td>A0945</td>\n",
       "      <td>TNF-α</td>\n",
       "      <td>TNF.a</td>\n",
       "      <td>[]</td>\n",
       "      <td>none</td>\n",
       "      <td>none</td>\n",
       "      <td>none</td>\n",
       "    </tr>\n",
       "    <tr>\n",
       "      <th>279</th>\n",
       "      <td>CD215</td>\n",
       "      <td>CATATTCCGCCGTAA</td>\n",
       "      <td>A0947</td>\n",
       "      <td>CD215 (IL-15Rα)</td>\n",
       "      <td>CD215..IL.15Ra</td>\n",
       "      <td>[IL-15Rα]</td>\n",
       "      <td>IL15RA</td>\n",
       "      <td>CD215</td>\n",
       "      <td>[CD215,  IL-15RA]</td>\n",
       "    </tr>\n",
       "    <tr>\n",
       "      <th>280</th>\n",
       "      <td>CD321</td>\n",
       "      <td>GACAGTACCGACACT</td>\n",
       "      <td>A0948</td>\n",
       "      <td>CD321</td>\n",
       "      <td>CD321</td>\n",
       "      <td>[]</td>\n",
       "      <td>F11R</td>\n",
       "      <td>CD321</td>\n",
       "      <td>[JAM,  KAT,  JAM1,  JCAM,  JAM-1,  PAM-1]</td>\n",
       "    </tr>\n",
       "    <tr>\n",
       "      <th>281</th>\n",
       "      <td>HLA-DR, DP, DQ</td>\n",
       "      <td>AGCTACGAGCAGTAG</td>\n",
       "      <td>A1018</td>\n",
       "      <td>HLA-DR, DP, DQ</td>\n",
       "      <td>HLA.DR_.DP_.DQ</td>\n",
       "      <td>[]</td>\n",
       "      <td>none</td>\n",
       "      <td>none</td>\n",
       "      <td>none</td>\n",
       "    </tr>\n",
       "  </tbody>\n",
       "</table>\n",
       "<p>282 rows × 9 columns</p>\n",
       "</div>"
      ],
      "text/plain": [
       "            Primary          barcode DNA_ID             Target   \n",
       "0              CD64  AAGTATGCCCTACGA  A0162               CD64  \\\n",
       "1              CD1d  TCGAGTCGCTTATCA  A0164               CD1d   \n",
       "2             CD270  TGATAGAAACAGACC  A0020  CD270 (HVEM, TR2)   \n",
       "3             CD319  AGTATGCCATGTCTT  A0830      CD319 (CRACC)   \n",
       "4              CD34  GCAGAAATCTCCCTT  A0054               CD34   \n",
       "..              ...              ...    ...                ...   \n",
       "277            CD37  ACAGTCACTGGGCAA  A0941               CD37   \n",
       "278           TNF-α  CCTATGAACGTAACG  A0945              TNF-α   \n",
       "279           CD215  CATATTCCGCCGTAA  A0947    CD215 (IL-15Rα)   \n",
       "280           CD321  GACAGTACCGACACT  A0948              CD321   \n",
       "281  HLA-DR, DP, DQ  AGCTACGAGCAGTAG  A1018     HLA-DR, DP, DQ   \n",
       "\n",
       "                Clean  Alternative NCBI_NAME GENE_NAME   \n",
       "0                CD64           []      none      none  \\\n",
       "1                CD1d           []      CD1D      CD1D   \n",
       "2    CD270..HVEM_.TR2  [HVEM, TR2]  TNFRSF14     CD270   \n",
       "3        CD319..CRACC      [CRACC]    SLAMF7     CD319   \n",
       "4                CD34           []      CD34      CD34   \n",
       "..                ...          ...       ...       ...   \n",
       "277              CD37           []      CD37      CD37   \n",
       "278             TNF.a           []      none      none   \n",
       "279    CD215..IL.15Ra    [IL-15Rα]    IL15RA     CD215   \n",
       "280             CD321           []      F11R     CD321   \n",
       "281    HLA.DR_.DP_.DQ           []      none      none   \n",
       "\n",
       "                                       NCBI_OTHER_NAME  \n",
       "0                                                 none  \n",
       "1                                               [none]  \n",
       "2    [ATAR,  CD270,  \"herpesvirus entry mediator\", ...  \n",
       "3                                  [19A,  CRACC,  CS1]  \n",
       "4                                               [none]  \n",
       "..                                                 ...  \n",
       "277                                          [GP52-40]  \n",
       "278                                               none  \n",
       "279                                  [CD215,  IL-15RA]  \n",
       "280          [JAM,  KAT,  JAM1,  JCAM,  JAM-1,  PAM-1]  \n",
       "281                                               none  \n",
       "\n",
       "[282 rows x 9 columns]"
      ]
     },
     "execution_count": 15,
     "metadata": {},
     "output_type": "execute_result"
    }
   ],
   "source": [
    "# merge from barcode excel sheet\n",
    "barcodes = np.array([re.search(\"[AGCT]{15}|unmapped\", s).group() for s in prot.columns])\n",
    "barcodes = pd.DataFrame({\"barcode\": barcodes}).join(ab_df.set_index(\"Barcode\"), on=\"barcode\")\n",
    "barcodes[\"Clean\"] = clean_names\n",
    "#barcodes[\"Target\"] = [re.sub(\"anti-human \", \"\", str(s)) for s in barcodes[\"Target\"].to_numpy()]\n",
    "#barcodes[\"Target\"] = [re.sub(\"anti-human/mouse \", \"\", str(s)) for s in barcodes[\"Target\"].to_numpy()]\n",
    "barcodes[\"Target\"] = [re.sub(\"anti-human \", \"\", s) for s in barcodes[\"Target\"].to_numpy()]\n",
    "barcodes[\"Target\"] = [re.sub(\"anti-human/mouse \", \"\", s) for s in barcodes[\"Target\"].to_numpy()]\n",
    "barcodes[\"Target\"] = [re.sub(\"anti-mouse/human \", \"\", s) for s in barcodes[\"Target\"].to_numpy()]\n",
    "barcodes[\"Target\"] = [re.sub(\"Recombinant\", \"\", s) for s in barcodes[\"Target\"].to_numpy()]\n",
    "barcodes[\"Target\"] = [re.sub(\"anti-Human\", \"\", s) for s in barcodes[\"Target\"].to_numpy()]\n",
    "barcodes[\"Target\"] = [re.sub(\"anti-\", \"\", s) for s in barcodes[\"Target\"].to_numpy()]\n",
    "barcodes[\"Target\"] = [s.strip() for s in barcodes[\"Target\"].to_numpy()]\n",
    "\n",
    "# extract all names in the bracket in s and put into a list\n",
    "def extract_names(s):\n",
    "    pattern = re.compile(r'\\((.*?)\\)')\n",
    "    return pattern.findall(s)\n",
    "\n",
    "# remove the bracket in s and put into a list\n",
    "def remove_bracket(s):\n",
    "    pattern = re.compile(r' \\((.*?)\\)')\n",
    "    return pattern.sub('', s)\n",
    "\n",
    "primary_names = []\n",
    "alternative_names = []\n",
    "for bc, target in zip(barcodes.barcode, barcodes.Target):\n",
    "    primary_names.append(remove_bracket(target))\n",
    "    alternative_names.append(extract_names(target))\n",
    "\n",
    "barcodes[\"Primary\"] = [s.strip() for s in primary_names]\n",
    "barcodes[\"Alternative\"] = alternative_names\n",
    "barcodes = barcodes.set_index(\"Primary\").join(cd_to_ncbi.set_index(\"CD_NAME\"), how=\"left\")\n",
    "barcodes = barcodes.reset_index().rename(columns={\"index\": \"Primary\"})\n",
    "barcodes = barcodes.fillna(\"none\")\n",
    "barcodes"
   ]
  },
  {
   "cell_type": "code",
   "execution_count": 77,
   "metadata": {},
   "outputs": [
    {
     "name": "stdout",
     "output_type": "stream",
     "text": [
      "(1036,)\n",
      "(1059,)\n"
     ]
    }
   ],
   "source": [
    "#li.rs.show_resources()\n",
    "db = li.rs.select_resource(\"consensus\")\n",
    "ligands_orig = np.unique(db.ligand.to_numpy())\n",
    "receptors_orig = np.unique(db.receptor.to_numpy())\n",
    "print(ligands_orig.shape)\n",
    "print(receptors_orig.shape)"
   ]
  },
  {
   "cell_type": "code",
   "execution_count": 78,
   "metadata": {},
   "outputs": [
    {
     "name": "stdout",
     "output_type": "stream",
     "text": [
      "62\n"
     ]
    },
    {
     "data": {
      "text/plain": [
       "array(['NECTIN2', 'CEACAM1', 'CEACAM5', 'ITGB2', 'CD96', 'NTRK3', 'C1QB',\n",
       "       'PDPN', 'NLGN3', 'HLA-DPA1', 'FGFR3', 'IL1RAPL1', 'NRXN3', 'APP',\n",
       "       'CD28', 'HAVCR1', 'SDC2', 'DSC3', 'CADM1', 'CD22', 'CRTAM',\n",
       "       'HLA-DPB1', 'PODXL', 'SELL', 'MADCAM1', 'MUC1', 'DSC1', 'GP1BA',\n",
       "       'CD200R1', 'TNFSF8', 'SCUBE2', 'CSPG4', 'SIRPA', 'CD47', 'NLGN1',\n",
       "       'TIGIT', 'CNTN1', 'NLGN2', 'CD72', 'SEMA4C', 'ACTR2', 'NECTIN1',\n",
       "       'NRXN2', 'CD86', 'SPN', 'CLEC1B', 'CFC1', 'FGFR4', 'CLEC2D',\n",
       "       'DSCAM', 'NECTIN4', 'SIRPG', 'CD80', 'CXADR', 'CD200', 'THY1',\n",
       "       'NRXN1', 'JAML', 'ADAM23', 'CD70', 'RGMB', 'ITGAV'], dtype='<U8')"
      ]
     },
     "execution_count": 78,
     "metadata": {},
     "output_type": "execute_result"
    }
   ],
   "source": [
    "# any overlap between ligands and receptors?\n",
    "print(len(set(ligands_orig) & set(receptors_orig)))\n",
    "np.array(list(set(ligands_orig) & set(receptors_orig)))"
   ]
  },
  {
   "cell_type": "code",
   "execution_count": 107,
   "metadata": {},
   "outputs": [
    {
     "name": "stdout",
     "output_type": "stream",
     "text": [
      "(974,)\n",
      "(997,)\n"
     ]
    }
   ],
   "source": [
    "# for now we remove entries that are annotated as both receptors and ligands\n",
    "# TODO: Change in future\n",
    "ligands = np.array(list(set(ligands_orig) - (set(ligands_orig) & set(receptors_orig))))\n",
    "receptors = np.array(list(set(receptors_orig) - (set(ligands_orig) & set(receptors_orig))))\n",
    "print(ligands.shape)\n",
    "print(receptors.shape)"
   ]
  },
  {
   "cell_type": "code",
   "execution_count": 108,
   "metadata": {},
   "outputs": [],
   "source": [
    "translate_names = {\n",
    "    \"CD270\": \"TNFRSF14\",\n",
    "    \"CD335\": \"NCR1\",\n",
    "    \"CD117\": \"KIT\",\n",
    "    \"CD357\": \"TNFRSF18\",\n",
    "    \"CD268\": \"TNFRSF13C\",\n",
    "    \"CD252\": \"TNFSF4\",\n",
    "    \"CD137L\": \"TNFSF9\", # ligand for CD137: TNFRSF9\n",
    "    \"TNF-α\" : \"TNF\",\n",
    "    \"LOX-1\": \"OLR1\",\n",
    "    \"TSLPR\": \"CRLF2\",\n",
    "    \"CD273\": \"PDCD1LG2\",\n",
    "    \"CD169\": \"SIGLEC1\",\n",
    "    \"β2-microglobulin\": \"B2M\",\n",
    "    \"FcεRIα\": \"FCER2\",\n",
    "    \"CD294\": \"PTGDR2\",\n",
    "    \"integrin β7\": \"ITGB7\",\n",
    "    \"CD32\": \"FCGR2A\",\n",
    "    \"CD85j\": \"LILRB1\",\n",
    "    \"CD158\": \"CD40LG\",\n",
    "    \"Mac-2\": \"LGALS3\",\n",
    "    \"Podoplanin\": \"PDPN\",\n",
    "    \"CD8\": \"CD8A\",\n",
    "    \"CD122\": \"IL2RB\",\n",
    "    \"Galectin-9\": \"LGALS9\",\n",
    "    \"Cadherin 11\": \"CDH11\",\n",
    "    \"Notch 1\": \"NOTCH1\",\n",
    "    \"CD119\": \"IFNGR1\",\n",
    "    \"Notch 3\": \"NOTCH3\",\n",
    "    \"CD85g\": \"LILRA4\",\n",
    "    \"TIM-4\": \"TIMD4\",\n",
    "    \"C5L2\": \"C5AR2\",\n",
    "    \"mast cell tryptase\": \"TPSAB1\",\n",
    "    \"GP130\": \"IL6ST\",\n",
    "    \"CD218a\": \"IL18R1\",\n",
    "    \"VEGFR-3\": \"FLT4\",\n",
    "    \"GPR56\": \"ADGRG1\",\n",
    "    \"MICA/MICB\": \"MICA\",\n",
    "    \"NKp80\": \"KLRF1\",\n",
    "    \"CD131\": \"CSF2RB\",\n",
    "    \"Lymphotoxin β Receptor\": \"LTBR\",\n",
    "    \"Annexin A1\": \"ANXA1\",\n",
    "}\n",
    "barcodes[\"MANUAL\"] = [translate_names.get(s, \"none\") for s in barcodes.Primary]"
   ]
  },
  {
   "cell_type": "code",
   "execution_count": 109,
   "metadata": {},
   "outputs": [
    {
     "data": {
      "text/plain": [
       "133"
      ]
     },
     "execution_count": 109,
     "metadata": {},
     "output_type": "execute_result"
    }
   ],
   "source": [
    "match_bool_receptors = np.zeros(len(barcodes), dtype=bool)\n",
    "matched_receptors = []\n",
    "\n",
    "for i, row_dict in enumerate(barcodes.to_dict(orient=\"records\")):\n",
    "    \n",
    "    if row_dict[\"Primary\"] in receptors:\n",
    "        matched_receptors.append(row_dict[\"Primary\"])\n",
    "        match_bool_receptors[i] = True\n",
    "        continue\n",
    "\n",
    "    if row_dict[\"NCBI_NAME\"] in receptors:\n",
    "        matched_receptors.append(row_dict[\"NCBI_NAME\"])\n",
    "        match_bool_receptors[i] = True\n",
    "        continue\n",
    "\n",
    "    if row_dict[\"MANUAL\"] in receptors:\n",
    "        matched_receptors.append(row_dict[\"MANUAL\"])\n",
    "        match_bool_receptors[i] = True\n",
    "        continue\n",
    "\n",
    "    tmp_flag = False\n",
    "    for entry in row_dict[\"NCBI_OTHER_NAME\"]:\n",
    "        if entry.strip() in receptors:\n",
    "            matched_receptors.append(entry.strip() )\n",
    "            match_bool_receptors[i] = True\n",
    "            tmp_flag = True\n",
    "            break\n",
    "    if tmp_flag:\n",
    "        continue\n",
    "\n",
    "    tmp_flag = False\n",
    "    for entry in row_dict[\"Alternative\"]:\n",
    "        if entry.strip() in receptors:\n",
    "            matched_receptors.append(entry.strip() )\n",
    "            match_bool_receptors[i] = True\n",
    "            tmp_flag = True\n",
    "            break\n",
    "    if tmp_flag:\n",
    "        continue\n",
    "\n",
    "    matched_receptors.append(\"none\")\n",
    "\n",
    "barcodes[\"matched_receptor_bool\"] = match_bool_receptors\n",
    "match_bool_receptors.sum()"
   ]
  },
  {
   "cell_type": "code",
   "execution_count": 110,
   "metadata": {},
   "outputs": [
    {
     "data": {
      "text/plain": [
       "52"
      ]
     },
     "execution_count": 110,
     "metadata": {},
     "output_type": "execute_result"
    }
   ],
   "source": [
    "match_bool_ligands = np.zeros(len(barcodes), dtype=bool)\n",
    "matched_ligands = []\n",
    "\n",
    "for i, row_dict in enumerate(barcodes.to_dict(orient=\"records\")):\n",
    "    \n",
    "    if row_dict[\"Primary\"] in ligands:\n",
    "        matched_ligands.append(row_dict[\"Primary\"])\n",
    "        match_bool_ligands[i] = True\n",
    "        continue\n",
    "\n",
    "    if row_dict[\"NCBI_NAME\"] in ligands:\n",
    "        matched_ligands.append(row_dict[\"NCBI_NAME\"])\n",
    "        match_bool_ligands[i] = True\n",
    "        continue\n",
    "\n",
    "    if row_dict[\"MANUAL\"] in ligands:\n",
    "        matched_ligands.append(row_dict[\"MANUAL\"])\n",
    "        match_bool_ligands[i] = True\n",
    "        continue\n",
    "\n",
    "    tmp_flag = False\n",
    "    for entry in row_dict[\"NCBI_OTHER_NAME\"]:\n",
    "        if entry.strip() in ligands:\n",
    "            matched_ligands.append(entry.strip() )\n",
    "            match_bool_ligands[i] = True\n",
    "            tmp_flag = True\n",
    "            break\n",
    "    if tmp_flag:\n",
    "        continue\n",
    "\n",
    "    tmp_flag = False\n",
    "    for entry in row_dict[\"Alternative\"]:\n",
    "        if entry.strip() in ligands:\n",
    "            matched_ligands.append(entry.strip() )\n",
    "            match_bool_ligands[i] = True\n",
    "            tmp_flag = True\n",
    "            break\n",
    "    if tmp_flag:\n",
    "        continue\n",
    "\n",
    "    matched_ligands.append(\"none\")\n",
    "\n",
    "barcodes[\"matched_ligand_bool\"] = match_bool_ligands\n",
    "match_bool_ligands.sum()"
   ]
  },
  {
   "cell_type": "code",
   "execution_count": 111,
   "metadata": {},
   "outputs": [],
   "source": [
    "barcodes[\"matched\"] = np.logical_or(barcodes[\"matched_receptor_bool\"], barcodes[\"matched_ligand_bool\"])"
   ]
  },
  {
   "cell_type": "code",
   "execution_count": 112,
   "metadata": {},
   "outputs": [],
   "source": [
    "barcodes.matched_receptor = matched_receptors\n",
    "barcodes.matched_ligand = matched_ligands"
   ]
  },
  {
   "cell_type": "code",
   "execution_count": 115,
   "metadata": {},
   "outputs": [],
   "source": [
    "matched_receptors = np.array(matched_receptors)[[s != \"none\" for s in matched_receptors]]\n",
    "matched_ligands = np.array(matched_ligands)[[s != \"none\" for s in matched_ligands]]"
   ]
  },
  {
   "cell_type": "code",
   "execution_count": 116,
   "metadata": {},
   "outputs": [
    {
     "data": {
      "text/html": [
       "<div>\n",
       "<style scoped>\n",
       "    .dataframe tbody tr th:only-of-type {\n",
       "        vertical-align: middle;\n",
       "    }\n",
       "\n",
       "    .dataframe tbody tr th {\n",
       "        vertical-align: top;\n",
       "    }\n",
       "\n",
       "    .dataframe thead th {\n",
       "        text-align: right;\n",
       "    }\n",
       "</style>\n",
       "<table border=\"1\" class=\"dataframe\">\n",
       "  <thead>\n",
       "    <tr style=\"text-align: right;\">\n",
       "      <th></th>\n",
       "      <th>Primary</th>\n",
       "      <th>barcode</th>\n",
       "      <th>DNA_ID</th>\n",
       "      <th>Target</th>\n",
       "      <th>Clean</th>\n",
       "      <th>Alternative</th>\n",
       "      <th>NCBI_NAME</th>\n",
       "      <th>GENE_NAME</th>\n",
       "      <th>NCBI_OTHER_NAME</th>\n",
       "      <th>MANUAL</th>\n",
       "      <th>matched_receptor</th>\n",
       "      <th>matched_ligand</th>\n",
       "      <th>matched</th>\n",
       "      <th>matched_receptor_bool</th>\n",
       "      <th>matched_ligand_bool</th>\n",
       "    </tr>\n",
       "  </thead>\n",
       "  <tbody>\n",
       "    <tr>\n",
       "      <th>1</th>\n",
       "      <td>CD1d</td>\n",
       "      <td>TCGAGTCGCTTATCA</td>\n",
       "      <td>A0164</td>\n",
       "      <td>CD1d</td>\n",
       "      <td>CD1d</td>\n",
       "      <td>[]</td>\n",
       "      <td>CD1D</td>\n",
       "      <td>CD1D</td>\n",
       "      <td>[none]</td>\n",
       "      <td>none</td>\n",
       "      <td>none</td>\n",
       "      <td>CD1D</td>\n",
       "      <td>True</td>\n",
       "      <td>False</td>\n",
       "      <td>True</td>\n",
       "    </tr>\n",
       "    <tr>\n",
       "      <th>2</th>\n",
       "      <td>CD270</td>\n",
       "      <td>TGATAGAAACAGACC</td>\n",
       "      <td>A0020</td>\n",
       "      <td>CD270 (HVEM, TR2)</td>\n",
       "      <td>CD270..HVEM_.TR2</td>\n",
       "      <td>[HVEM, TR2]</td>\n",
       "      <td>TNFRSF14</td>\n",
       "      <td>CD270</td>\n",
       "      <td>[ATAR,  CD270,  \"herpesvirus entry mediator\", ...</td>\n",
       "      <td>TNFRSF14</td>\n",
       "      <td>TNFRSF14</td>\n",
       "      <td>none</td>\n",
       "      <td>True</td>\n",
       "      <td>True</td>\n",
       "      <td>False</td>\n",
       "    </tr>\n",
       "    <tr>\n",
       "      <th>4</th>\n",
       "      <td>CD34</td>\n",
       "      <td>GCAGAAATCTCCCTT</td>\n",
       "      <td>A0054</td>\n",
       "      <td>CD34</td>\n",
       "      <td>CD34</td>\n",
       "      <td>[]</td>\n",
       "      <td>CD34</td>\n",
       "      <td>CD34</td>\n",
       "      <td>[none]</td>\n",
       "      <td>none</td>\n",
       "      <td>none</td>\n",
       "      <td>CD34</td>\n",
       "      <td>True</td>\n",
       "      <td>False</td>\n",
       "      <td>True</td>\n",
       "    </tr>\n",
       "    <tr>\n",
       "      <th>5</th>\n",
       "      <td>CD335</td>\n",
       "      <td>ACAATTTGAACAGCG</td>\n",
       "      <td>A0101</td>\n",
       "      <td>CD335 (NKp46)</td>\n",
       "      <td>CD335..NKp46</td>\n",
       "      <td>[NKp46]</td>\n",
       "      <td>NCR1</td>\n",
       "      <td>CD335</td>\n",
       "      <td>[LY94,  NK-p46,  NKP46]</td>\n",
       "      <td>NCR1</td>\n",
       "      <td>NCR1</td>\n",
       "      <td>none</td>\n",
       "      <td>True</td>\n",
       "      <td>True</td>\n",
       "      <td>False</td>\n",
       "    </tr>\n",
       "    <tr>\n",
       "      <th>6</th>\n",
       "      <td>CD193</td>\n",
       "      <td>ACCAATCCTTTCGTC</td>\n",
       "      <td>A0397</td>\n",
       "      <td>CD193 (CCR3)</td>\n",
       "      <td>CD193..CCR3</td>\n",
       "      <td>[CCR3]</td>\n",
       "      <td>CCR3</td>\n",
       "      <td>CD193</td>\n",
       "      <td>[CC-CKR-3,  CKR3,  CMKBR3]</td>\n",
       "      <td>none</td>\n",
       "      <td>CCR3</td>\n",
       "      <td>none</td>\n",
       "      <td>True</td>\n",
       "      <td>True</td>\n",
       "      <td>False</td>\n",
       "    </tr>\n",
       "    <tr>\n",
       "      <th>...</th>\n",
       "      <td>...</td>\n",
       "      <td>...</td>\n",
       "      <td>...</td>\n",
       "      <td>...</td>\n",
       "      <td>...</td>\n",
       "      <td>...</td>\n",
       "      <td>...</td>\n",
       "      <td>...</td>\n",
       "      <td>...</td>\n",
       "      <td>...</td>\n",
       "      <td>...</td>\n",
       "      <td>...</td>\n",
       "      <td>...</td>\n",
       "      <td>...</td>\n",
       "      <td>...</td>\n",
       "    </tr>\n",
       "    <tr>\n",
       "      <th>274</th>\n",
       "      <td>CD317</td>\n",
       "      <td>AAGAGCCGTTGTGAA</td>\n",
       "      <td>A0936</td>\n",
       "      <td>CD317 (BST2, Tetherin)</td>\n",
       "      <td>CD317..BST2_.Tetherin</td>\n",
       "      <td>[BST2, Tetherin]</td>\n",
       "      <td>BST2</td>\n",
       "      <td>CD317</td>\n",
       "      <td>[none]</td>\n",
       "      <td>none</td>\n",
       "      <td>none</td>\n",
       "      <td>BST2</td>\n",
       "      <td>True</td>\n",
       "      <td>False</td>\n",
       "      <td>True</td>\n",
       "    </tr>\n",
       "    <tr>\n",
       "      <th>276</th>\n",
       "      <td>CD116</td>\n",
       "      <td>ATGGACAGTTCGTGT</td>\n",
       "      <td>A0940</td>\n",
       "      <td>CD116</td>\n",
       "      <td>CD116</td>\n",
       "      <td>[]</td>\n",
       "      <td>CSF2RA</td>\n",
       "      <td>CD116</td>\n",
       "      <td>[CD116,  CDw116,  CSF2R,  CSF2RAX,  CSF2RAY,  ...</td>\n",
       "      <td>none</td>\n",
       "      <td>CSF2RA</td>\n",
       "      <td>none</td>\n",
       "      <td>True</td>\n",
       "      <td>True</td>\n",
       "      <td>False</td>\n",
       "    </tr>\n",
       "    <tr>\n",
       "      <th>278</th>\n",
       "      <td>TNF-α</td>\n",
       "      <td>CCTATGAACGTAACG</td>\n",
       "      <td>A0945</td>\n",
       "      <td>TNF-α</td>\n",
       "      <td>TNF.a</td>\n",
       "      <td>[]</td>\n",
       "      <td>none</td>\n",
       "      <td>none</td>\n",
       "      <td>none</td>\n",
       "      <td>TNF</td>\n",
       "      <td>none</td>\n",
       "      <td>TNF</td>\n",
       "      <td>True</td>\n",
       "      <td>False</td>\n",
       "      <td>True</td>\n",
       "    </tr>\n",
       "    <tr>\n",
       "      <th>279</th>\n",
       "      <td>CD215</td>\n",
       "      <td>CATATTCCGCCGTAA</td>\n",
       "      <td>A0947</td>\n",
       "      <td>CD215 (IL-15Rα)</td>\n",
       "      <td>CD215..IL.15Ra</td>\n",
       "      <td>[IL-15Rα]</td>\n",
       "      <td>IL15RA</td>\n",
       "      <td>CD215</td>\n",
       "      <td>[CD215,  IL-15RA]</td>\n",
       "      <td>none</td>\n",
       "      <td>none</td>\n",
       "      <td>IL15RA</td>\n",
       "      <td>True</td>\n",
       "      <td>False</td>\n",
       "      <td>True</td>\n",
       "    </tr>\n",
       "    <tr>\n",
       "      <th>280</th>\n",
       "      <td>CD321</td>\n",
       "      <td>GACAGTACCGACACT</td>\n",
       "      <td>A0948</td>\n",
       "      <td>CD321</td>\n",
       "      <td>CD321</td>\n",
       "      <td>[]</td>\n",
       "      <td>F11R</td>\n",
       "      <td>CD321</td>\n",
       "      <td>[JAM,  KAT,  JAM1,  JCAM,  JAM-1,  PAM-1]</td>\n",
       "      <td>none</td>\n",
       "      <td>none</td>\n",
       "      <td>F11R</td>\n",
       "      <td>True</td>\n",
       "      <td>False</td>\n",
       "      <td>True</td>\n",
       "    </tr>\n",
       "  </tbody>\n",
       "</table>\n",
       "<p>184 rows × 15 columns</p>\n",
       "</div>"
      ],
      "text/plain": [
       "    Primary          barcode DNA_ID                  Target   \n",
       "1      CD1d  TCGAGTCGCTTATCA  A0164                    CD1d  \\\n",
       "2     CD270  TGATAGAAACAGACC  A0020       CD270 (HVEM, TR2)   \n",
       "4      CD34  GCAGAAATCTCCCTT  A0054                    CD34   \n",
       "5     CD335  ACAATTTGAACAGCG  A0101           CD335 (NKp46)   \n",
       "6     CD193  ACCAATCCTTTCGTC  A0397            CD193 (CCR3)   \n",
       "..      ...              ...    ...                     ...   \n",
       "274   CD317  AAGAGCCGTTGTGAA  A0936  CD317 (BST2, Tetherin)   \n",
       "276   CD116  ATGGACAGTTCGTGT  A0940                   CD116   \n",
       "278   TNF-α  CCTATGAACGTAACG  A0945                   TNF-α   \n",
       "279   CD215  CATATTCCGCCGTAA  A0947         CD215 (IL-15Rα)   \n",
       "280   CD321  GACAGTACCGACACT  A0948                   CD321   \n",
       "\n",
       "                     Clean       Alternative NCBI_NAME GENE_NAME   \n",
       "1                     CD1d                []      CD1D      CD1D  \\\n",
       "2         CD270..HVEM_.TR2       [HVEM, TR2]  TNFRSF14     CD270   \n",
       "4                     CD34                []      CD34      CD34   \n",
       "5             CD335..NKp46           [NKp46]      NCR1     CD335   \n",
       "6              CD193..CCR3            [CCR3]      CCR3     CD193   \n",
       "..                     ...               ...       ...       ...   \n",
       "274  CD317..BST2_.Tetherin  [BST2, Tetherin]      BST2     CD317   \n",
       "276                  CD116                []    CSF2RA     CD116   \n",
       "278                  TNF.a                []      none      none   \n",
       "279         CD215..IL.15Ra         [IL-15Rα]    IL15RA     CD215   \n",
       "280                  CD321                []      F11R     CD321   \n",
       "\n",
       "                                       NCBI_OTHER_NAME    MANUAL   \n",
       "1                                               [none]      none  \\\n",
       "2    [ATAR,  CD270,  \"herpesvirus entry mediator\", ...  TNFRSF14   \n",
       "4                                               [none]      none   \n",
       "5                              [LY94,  NK-p46,  NKP46]      NCR1   \n",
       "6                           [CC-CKR-3,  CKR3,  CMKBR3]      none   \n",
       "..                                                 ...       ...   \n",
       "274                                             [none]      none   \n",
       "276  [CD116,  CDw116,  CSF2R,  CSF2RAX,  CSF2RAY,  ...      none   \n",
       "278                                               none       TNF   \n",
       "279                                  [CD215,  IL-15RA]      none   \n",
       "280          [JAM,  KAT,  JAM1,  JCAM,  JAM-1,  PAM-1]      none   \n",
       "\n",
       "    matched_receptor matched_ligand  matched  matched_receptor_bool   \n",
       "1               none           CD1D     True                  False  \\\n",
       "2           TNFRSF14           none     True                   True   \n",
       "4               none           CD34     True                  False   \n",
       "5               NCR1           none     True                   True   \n",
       "6               CCR3           none     True                   True   \n",
       "..               ...            ...      ...                    ...   \n",
       "274             none           BST2     True                  False   \n",
       "276           CSF2RA           none     True                   True   \n",
       "278             none            TNF     True                  False   \n",
       "279             none         IL15RA     True                  False   \n",
       "280             none           F11R     True                  False   \n",
       "\n",
       "     matched_ligand_bool  \n",
       "1                   True  \n",
       "2                  False  \n",
       "4                   True  \n",
       "5                  False  \n",
       "6                  False  \n",
       "..                   ...  \n",
       "274                 True  \n",
       "276                False  \n",
       "278                 True  \n",
       "279                 True  \n",
       "280                 True  \n",
       "\n",
       "[184 rows x 15 columns]"
      ]
     },
     "execution_count": 116,
     "metadata": {},
     "output_type": "execute_result"
    }
   ],
   "source": [
    "barcodes.loc[barcodes.matched]"
   ]
  },
  {
   "cell_type": "code",
   "execution_count": 120,
   "metadata": {},
   "outputs": [
    {
     "data": {
      "text/plain": [
       "{'ADGRG1', 'CD177', 'CD24', 'HLA-E', 'MPL', 'PECAM1'}"
      ]
     },
     "execution_count": 120,
     "metadata": {},
     "output_type": "execute_result"
    }
   ],
   "source": [
    "# almost all of the matched ligands and receptors are in the rna data (only 6 are missing)\n",
    "set(list(matched_ligands) + list(matched_receptors)) - set(rna.columns.to_list())"
   ]
  },
  {
   "cell_type": "code",
   "execution_count": 87,
   "metadata": {},
   "outputs": [],
   "source": [
    "#g = \"KLRF1\"\n",
    "#print(receptors[np.array([g in l for l in receptors])])\n",
    "#print(ligands[np.array([g in l for l in ligands])])"
   ]
  },
  {
   "cell_type": "code",
   "execution_count": 88,
   "metadata": {},
   "outputs": [],
   "source": [
    "#with pd.option_context('display.max_rows', None, 'display.max_columns', None): \n",
    "#    display(barcodes.loc[~barcodes.matched, :].loc[:, [\"Primary\"]])"
   ]
  },
  {
   "cell_type": "code",
   "execution_count": 121,
   "metadata": {},
   "outputs": [
    {
     "data": {
      "text/html": [
       "<div>\n",
       "<style scoped>\n",
       "    .dataframe tbody tr th:only-of-type {\n",
       "        vertical-align: middle;\n",
       "    }\n",
       "\n",
       "    .dataframe tbody tr th {\n",
       "        vertical-align: top;\n",
       "    }\n",
       "\n",
       "    .dataframe thead th {\n",
       "        text-align: right;\n",
       "    }\n",
       "</style>\n",
       "<table border=\"1\" class=\"dataframe\">\n",
       "  <thead>\n",
       "    <tr style=\"text-align: right;\">\n",
       "      <th></th>\n",
       "      <th>ligand</th>\n",
       "      <th>receptor</th>\n",
       "    </tr>\n",
       "  </thead>\n",
       "  <tbody>\n",
       "    <tr>\n",
       "      <th>0</th>\n",
       "      <td>LGALS9</td>\n",
       "      <td>PTPRC</td>\n",
       "    </tr>\n",
       "    <tr>\n",
       "      <th>1</th>\n",
       "      <td>LGALS9</td>\n",
       "      <td>MET</td>\n",
       "    </tr>\n",
       "    <tr>\n",
       "      <th>2</th>\n",
       "      <td>LGALS9</td>\n",
       "      <td>CD44</td>\n",
       "    </tr>\n",
       "    <tr>\n",
       "      <th>3</th>\n",
       "      <td>LGALS9</td>\n",
       "      <td>LRP1</td>\n",
       "    </tr>\n",
       "    <tr>\n",
       "      <th>4</th>\n",
       "      <td>LGALS9</td>\n",
       "      <td>CD47</td>\n",
       "    </tr>\n",
       "    <tr>\n",
       "      <th>...</th>\n",
       "      <td>...</td>\n",
       "      <td>...</td>\n",
       "    </tr>\n",
       "    <tr>\n",
       "      <th>4684</th>\n",
       "      <td>NRG3</td>\n",
       "      <td>EGFR</td>\n",
       "    </tr>\n",
       "    <tr>\n",
       "      <th>4685</th>\n",
       "      <td>CSF1</td>\n",
       "      <td>CSF2RA</td>\n",
       "    </tr>\n",
       "    <tr>\n",
       "      <th>4686</th>\n",
       "      <td>CSF3</td>\n",
       "      <td>CSF2RA</td>\n",
       "    </tr>\n",
       "    <tr>\n",
       "      <th>4688</th>\n",
       "      <td>MAML2</td>\n",
       "      <td>NOTCH3</td>\n",
       "    </tr>\n",
       "    <tr>\n",
       "      <th>4689</th>\n",
       "      <td>MAML2</td>\n",
       "      <td>NOTCH1</td>\n",
       "    </tr>\n",
       "  </tbody>\n",
       "</table>\n",
       "<p>972 rows × 2 columns</p>\n",
       "</div>"
      ],
      "text/plain": [
       "      ligand receptor\n",
       "0     LGALS9    PTPRC\n",
       "1     LGALS9      MET\n",
       "2     LGALS9     CD44\n",
       "3     LGALS9     LRP1\n",
       "4     LGALS9     CD47\n",
       "...      ...      ...\n",
       "4684    NRG3     EGFR\n",
       "4685    CSF1   CSF2RA\n",
       "4686    CSF3   CSF2RA\n",
       "4688   MAML2   NOTCH3\n",
       "4689   MAML2   NOTCH1\n",
       "\n",
       "[972 rows x 2 columns]"
      ]
     },
     "execution_count": 121,
     "metadata": {},
     "output_type": "execute_result"
    }
   ],
   "source": [
    "db_subset = db.loc[np.logical_or(np.array([s in np.unique(matched_receptors) for s in db.receptor.to_numpy()]),\n",
    "                                 np.array([s in np.unique(matched_ligands) for s in db.ligand.to_numpy()]))]\n",
    "db_subset"
   ]
  },
  {
   "cell_type": "code",
   "execution_count": 122,
   "metadata": {},
   "outputs": [
    {
     "name": "stdout",
     "output_type": "stream",
     "text": [
      "(4701, 2)\n",
      "(972, 2)\n",
      "(819, 2)\n"
     ]
    }
   ],
   "source": [
    "print(db.shape)\n",
    "\n",
    "db_subset = db.loc[np.logical_or(np.array([s in np.unique(matched_receptors) for s in db.receptor.to_numpy()]),\n",
    "                                 np.array([s in np.unique(matched_ligands) for s in db.ligand.to_numpy()]))]\n",
    "print(db_subset.shape)\n",
    "\n",
    "all_genes = np.unique(db_subset.ligand.to_list() + db_subset.receptor.to_list())\n",
    "all_genes_in_rna = all_genes[[s in rna.columns for s in all_genes]]\n",
    "\n",
    "db_subset = db_subset.loc[np.logical_and(np.array([s in all_genes_in_rna for s in db_subset.receptor.to_numpy()]),\n",
    "                                         np.array([s in all_genes_in_rna for s in db_subset.ligand.to_numpy()]))]\n",
    "print(db_subset.shape)"
   ]
  },
  {
   "cell_type": "code",
   "execution_count": 126,
   "metadata": {},
   "outputs": [
    {
     "name": "stdout",
     "output_type": "stream",
     "text": [
      "(180,)\n",
      "(447,)\n"
     ]
    }
   ],
   "source": [
    "misty_predictors = np.union1d(np.unique(matched_receptors), np.unique(matched_ligands))\n",
    "print(misty_predictors.shape)\n",
    "misty_targets = np.array(list(set(list(all_genes_in_rna)) - set(list(misty_predictors))))\n",
    "print(misty_targets.shape)"
   ]
  },
  {
   "cell_type": "code",
   "execution_count": null,
   "metadata": {},
   "outputs": [],
   "source": []
  },
  {
   "cell_type": "code",
   "execution_count": null,
   "metadata": {},
   "outputs": [],
   "source": []
  },
  {
   "cell_type": "code",
   "execution_count": null,
   "metadata": {},
   "outputs": [],
   "source": []
  },
  {
   "cell_type": "code",
   "execution_count": null,
   "metadata": {},
   "outputs": [],
   "source": []
  },
  {
   "cell_type": "code",
   "execution_count": null,
   "metadata": {},
   "outputs": [],
   "source": []
  },
  {
   "cell_type": "code",
   "execution_count": null,
   "metadata": {},
   "outputs": [],
   "source": []
  },
  {
   "cell_type": "code",
   "execution_count": null,
   "metadata": {},
   "outputs": [],
   "source": []
  },
  {
   "cell_type": "code",
   "execution_count": null,
   "metadata": {},
   "outputs": [],
   "source": [
    "markers = [\"CD19\", \"CD21\", \"CD23\"]\n",
    "fig, axs = plt.subplots(1, len(markers), figsize=(15, 5))\n",
    "for i, marker in enumerate(markers):\n",
    "    plot_df = coord.copy()\n",
    "    plot_df[\"marker\"] = prot[marker].to_numpy()\n",
    "    sns.scatterplot(x='x', y='y', hue='marker', data=plot_df, ax=axs[i], s=20)\n",
    "    axs[i].axis('equal')\n",
    "    axs[i].invert_yaxis()\n",
    "    axs[i].set_title(marker)\n",
    "plt.show()"
   ]
  },
  {
   "cell_type": "code",
   "execution_count": null,
   "metadata": {},
   "outputs": [],
   "source": [
    "markers = [\"IgM\", \"IgG.Fc\", \"IgD\"]\n",
    "fig, axs = plt.subplots(1, len(markers), figsize=(15, 5))\n",
    "for i, marker in enumerate(markers):\n",
    "    plot_df = coord.copy()\n",
    "    plot_df[\"marker\"] = prot[marker].to_numpy()\n",
    "    sns.scatterplot(x='x', y='y', hue='marker', data=plot_df, ax=axs[i], s=20)\n",
    "    axs[i].axis('equal')\n",
    "    axs[i].invert_yaxis()\n",
    "    axs[i].set_title(marker)\n",
    "plt.show()"
   ]
  },
  {
   "cell_type": "code",
   "execution_count": null,
   "metadata": {},
   "outputs": [],
   "source": [
    "obs_df = rna.index.to_frame(name=\"name\")\n",
    "obs_df[\"x\"] = coord[\"x\"].to_numpy()\n",
    "obs_df[\"y\"] = coord[\"y\"].to_numpy()\n",
    "obs_df"
   ]
  },
  {
   "cell_type": "code",
   "execution_count": null,
   "metadata": {},
   "outputs": [],
   "source": [
    "spatial = obs_df.copy().loc[:, [\"x\", \"y\"]]\n",
    "spatial"
   ]
  },
  {
   "cell_type": "code",
   "execution_count": null,
   "metadata": {},
   "outputs": [],
   "source": [
    "rna_var = rna.columns.to_frame(name=\"gene\")\n",
    "rna_var.index = [\"rna:\" + str(i) for i in rna_var.index]\n",
    "rna_var"
   ]
  },
  {
   "cell_type": "code",
   "execution_count": null,
   "metadata": {},
   "outputs": [],
   "source": [
    "prot_var = prot.columns.to_frame(name=\"prot\")\n",
    "prot_var.index = [\"prot:\" + str(i) for i in prot_var.index]\n",
    "prot_var"
   ]
  },
  {
   "cell_type": "code",
   "execution_count": null,
   "metadata": {},
   "outputs": [],
   "source": [
    "rna_ad = ad.AnnData(X=rna.to_numpy(), var=rna_var, obs=obs_df, obsm={\"spatial\": spatial})\n",
    "rna_ad"
   ]
  },
  {
   "cell_type": "code",
   "execution_count": null,
   "metadata": {},
   "outputs": [],
   "source": [
    "prot_ad = ad.AnnData(X=prot.to_numpy(), var=prot_var, obs=obs_df, obsm={\"spatial\": spatial})\n",
    "prot_ad"
   ]
  },
  {
   "cell_type": "code",
   "execution_count": null,
   "metadata": {},
   "outputs": [],
   "source": [
    "mdata = mu.MuData({\"rna\": rna_ad, \"protein\": prot_ad})\n",
    "mdata"
   ]
  },
  {
   "cell_type": "markdown",
   "metadata": {},
   "source": [
    "# RNA Analysis Only"
   ]
  },
  {
   "cell_type": "code",
   "execution_count": null,
   "metadata": {},
   "outputs": [],
   "source": [
    "li.ut.spatial_neighbors(mdata.mod[\"rna\"], cutoff=0, bandwidth=2.5, set_diag=False)\n",
    "li.pl.connectivity(mdata.mod[\"rna\"], idx=0)"
   ]
  },
  {
   "cell_type": "code",
   "execution_count": null,
   "metadata": {},
   "outputs": [],
   "source": [
    "sc.pp.highly_variable_genes(mdata.mod[\"rna\"])\n",
    "hvg = mdata.mod[\"rna\"].var[mdata.mod[\"rna\"].var['highly_variable']].index"
   ]
  },
  {
   "cell_type": "code",
   "execution_count": null,
   "metadata": {},
   "outputs": [],
   "source": [
    "hvg"
   ]
  },
  {
   "cell_type": "code",
   "execution_count": null,
   "metadata": {},
   "outputs": [],
   "source": [
    "sc.pp.normalize_total(mdata.mod[\"rna\"], target_sum=1e4)\n",
    "sc.pp.log1p(mdata.mod[\"rna\"])"
   ]
  },
  {
   "cell_type": "code",
   "execution_count": null,
   "metadata": {},
   "outputs": [],
   "source": [
    "#li.rs.show_resources()\n",
    "db = li.rs.select_resource(\"cellphonedb\")\n",
    "db"
   ]
  },
  {
   "cell_type": "code",
   "execution_count": null,
   "metadata": {},
   "outputs": [],
   "source": [
    "ligands = np.unique(db.ligand.to_numpy())\n",
    "receptors = np.unique(db.ligand.to_numpy())\n",
    "genes = [x.split(\":\")[1] for x in mdata.mod[\"rna\"].var_names]\n",
    "proteins = [x.split(\":\")[1] for x in mdata.mod[\"protein\"].var_names]"
   ]
  },
  {
   "cell_type": "code",
   "execution_count": null,
   "metadata": {},
   "outputs": [],
   "source": [
    "print(len(ligands))\n",
    "print(len(receptors))"
   ]
  },
  {
   "cell_type": "code",
   "execution_count": null,
   "metadata": {},
   "outputs": [],
   "source": [
    "print(np.array([l in genes for l in ligands]).sum())\n",
    "print(np.array([l in genes for l in receptors]).sum())"
   ]
  },
  {
   "cell_type": "code",
   "execution_count": null,
   "metadata": {},
   "outputs": [],
   "source": [
    "\"CD270\" in receptors"
   ]
  },
  {
   "cell_type": "code",
   "execution_count": null,
   "metadata": {},
   "outputs": [],
   "source": [
    "proteins"
   ]
  },
  {
   "cell_type": "code",
   "execution_count": null,
   "metadata": {},
   "outputs": [],
   "source": []
  },
  {
   "cell_type": "code",
   "execution_count": null,
   "metadata": {},
   "outputs": [],
   "source": []
  },
  {
   "cell_type": "code",
   "execution_count": null,
   "metadata": {},
   "outputs": [],
   "source": []
  },
  {
   "cell_type": "code",
   "execution_count": null,
   "metadata": {},
   "outputs": [],
   "source": [
    "print(np.array([l in proteins for l in ligands]).sum())\n",
    "print(np.array([l in proteins for l in receptor]).sum())"
   ]
  },
  {
   "cell_type": "code",
   "execution_count": null,
   "metadata": {},
   "outputs": [],
   "source": [
    "orig_names"
   ]
  },
  {
   "cell_type": "code",
   "execution_count": null,
   "metadata": {},
   "outputs": [],
   "source": []
  },
  {
   "cell_type": "code",
   "execution_count": null,
   "metadata": {},
   "outputs": [],
   "source": []
  },
  {
   "cell_type": "code",
   "execution_count": null,
   "metadata": {},
   "outputs": [],
   "source": [
    "# Appendix\n",
    "print(np.array([s in gene_annot[\"Gene name\"].to_numpy() for s in barcodes.loc[~barcodes.matched, :].Primary.to_numpy()]).sum())\n",
    "print(np.array([s in gene_annot[\"HGNC symbol\"].to_numpy() for s in barcodes.loc[~barcodes.matched, :].Primary.to_numpy()]).sum())\n",
    "print(np.array([s in gene_annot[\"UniProtKB Gene Name symbol\"].to_numpy() for s in barcodes.loc[~barcodes.matched, :].Primary.to_numpy()]).sum())\n",
    "print(np.array([s in gene_annot[\"WikiGene name\"].to_numpy() for s in barcodes.loc[~barcodes.matched, :].Primary.to_numpy()]).sum())\n",
    "\n",
    "print(np.array([s in gene_annot_2[\"Approved symbol\"].to_numpy() for s in barcodes.loc[~barcodes.matched, :].Primary.to_numpy()]).sum())\n",
    "print(np.array([s in gene_annot_2[\"Approved name\"].to_numpy() for s in barcodes.loc[~barcodes.matched, :].Primary.to_numpy()]).sum())\n",
    "print(np.array([s in gene_annot_2[\"Previous symbols\"].to_numpy() for s in barcodes.loc[~barcodes.matched, :].Primary.to_numpy()]).sum())\n",
    "print(np.array([s in gene_annot_2[\"Aliases\"].to_numpy() for s in barcodes.loc[~barcodes.matched, :].Primary.to_numpy()]).sum())"
   ]
  },
  {
   "cell_type": "code",
   "execution_count": null,
   "metadata": {},
   "outputs": [],
   "source": []
  }
 ],
 "metadata": {
  "kernelspec": {
   "display_name": "misty_liana",
   "language": "python",
   "name": "python3"
  },
  "language_info": {
   "codemirror_mode": {
    "name": "ipython",
    "version": 3
   },
   "file_extension": ".py",
   "mimetype": "text/x-python",
   "name": "python",
   "nbconvert_exporter": "python",
   "pygments_lexer": "ipython3",
   "version": "3.8.16"
  },
  "orig_nbformat": 4
 },
 "nbformat": 4,
 "nbformat_minor": 2
}
